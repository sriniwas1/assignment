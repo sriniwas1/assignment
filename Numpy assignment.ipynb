{
 "cells": [
  {
   "cell_type": "code",
   "execution_count": 115,
   "metadata": {
    "collapsed": false
   },
   "outputs": [
    {
     "name": "stdout",
     "output_type": "stream",
     "text": [
      "product1  3628800\n",
      "product1  6000\n"
     ]
    }
   ],
   "source": [
    "#Write a Python Program to implement your own myreduce() function which works exactly like\n",
    "#Python's built-in function reduce()\n",
    "\n",
    "def mul(x,y):\n",
    "    return x*y\n",
    "\n",
    "\n",
    "\n",
    "def myreduce(f, lst):\n",
    "    l=1\n",
    "    for i in lst:\n",
    "        l=mul(l,i)\n",
    "    return l\n",
    "\n",
    "\n",
    "lst=[1,2,3,4,5,6,7,8,9,10]\n",
    "print(\"product1 \", myreduce(mul,lst))\n",
    "\n",
    "lst=[10,20,30]\n",
    "print(\"product1 \", myreduce(mul,lst))\n"
   ]
  },
  {
   "cell_type": "code",
   "execution_count": 42,
   "metadata": {
    "collapsed": false
   },
   "outputs": [
    {
     "name": "stdout",
     "output_type": "stream",
     "text": [
      "Even number list : [2, 4, 6, 8, 10]\n"
     ]
    }
   ],
   "source": [
    "#Write a Python program to implement your own myfilter() function which works exactly like\n",
    "#Python's built-in function filter()\n",
    "\n",
    "def f_even(num):\n",
    "    l=[]\n",
    "    return(bool(num % 2 == 0))\n",
    "\n",
    "        \n",
    "        \n",
    "def myfilter(f_even,lst):\n",
    "    ll=[]\n",
    "\n",
    "    for i in lst:\n",
    "        result=f_even(i)\n",
    "        if bool(result) == True:\n",
    "            ll.append(i)\n",
    "    return ll\n",
    "\n",
    "lst=[1,2,3,4,5,6,7,8,9,10]\n",
    "\n",
    "print(\"Even number list :\", myfilter(f_even,lst))\n"
   ]
  },
  {
   "cell_type": "code",
   "execution_count": 43,
   "metadata": {
    "collapsed": false
   },
   "outputs": [
    {
     "name": "stdout",
     "output_type": "stream",
     "text": [
      "ODD number list : [1, 3, 5, 7, 9]\n"
     ]
    }
   ],
   "source": [
    "#Write a Python program to implement your own myfilter() function which works exactly like\n",
    "#Python's built-in function filter()\n",
    "\n",
    "\n",
    "def f_even(num):\n",
    "    l=[]\n",
    "    return(bool(num % 2 != 0))\n",
    "\n",
    "        \n",
    "        \n",
    "def myfilter(arg1=f_even,arg2=lst):\n",
    "    ll=[]\n",
    "    for i in arg2:\n",
    "        result=arg1(i)\n",
    "        if bool(result) == True:\n",
    "            ll.append(i)\n",
    "    return ll\n",
    "\n",
    "lst=[1,2,3,4,5,6,7,8,9,10]\n",
    "\n",
    "print(\"ODD number list :\", myfilter(arg1=f_even,arg2=lst))"
   ]
  },
  {
   "cell_type": "code",
   "execution_count": 82,
   "metadata": {
    "collapsed": false
   },
   "outputs": [
    {
     "name": "stdout",
     "output_type": "stream",
     "text": [
      "['A', 'C', 'A', 'D', 'G', 'I', 'L', 'D']\n",
      "['x', 'xx', 'xxx', 'xxxx', 'y', 'yy', 'yyy', 'yyyy', 'z', 'zz', 'zzz', 'zzzz']\n",
      "['x', 'y', 'z', 'xx', 'yy', 'zz', 'xxx', 'yyy', 'zzz', 'xxxx', 'yyyy', 'zzzz']\n"
     ]
    }
   ],
   "source": [
    "#Implement List comprehensions to produce the following lists.\n",
    "#Write List comprehensions to produce the following Lists\n",
    "#['A', 'C', 'A', 'D', 'G', 'I', ’L’, ‘ D’]\n",
    "#['x', 'xx', 'xxx', 'xxxx', 'y', 'yy', 'yyy', 'yyyy', 'z', 'zz', 'zzz', 'zzzz']\n",
    "#['x', 'y', 'z', 'xx', 'yy', 'zz', 'xx', 'yy', 'zz', 'xxxx', 'yyyy', 'zzzz']\n",
    "#[[2], [3], [4], [3], [4], [5], [4], [5], [6]]\n",
    "#[[2, 3, 4, 5], [3, 4, 5, 6], [4, 5, 6, 7], [5, 6, 7, 8]]\n",
    "#[(1, 1), (2, 1), (3, 1), (1, 2), (2, 2), (3, 2), (1, 3), (2, 3), (3, 3)]\n",
    "\n",
    "list_s= [ i for i in 'ACADGILD']\n",
    "print(list_s)\n",
    "\n",
    "\n",
    "l=[]\n",
    "ll=[[l.append(i*1),l.append(i*2),l.append(i*3),l.append(i*4)] for i in 'xyz' ]\n",
    "print(l)\n",
    "l=[]\n",
    "x=[[l.append(i*1)] for i in 'xyz']\n",
    "u=[[l.append(i*2)] for i in 'xyz' ]\n",
    "k=[[l.append(i*3)] for i in 'xyz' ]    \n",
    "j=[[l.append(i*4)] for i in 'xyz' ]   \n",
    "print(l)\n"
   ]
  },
  {
   "cell_type": "code",
   "execution_count": 76,
   "metadata": {
    "collapsed": false
   },
   "outputs": [
    {
     "name": "stdout",
     "output_type": "stream",
     "text": [
      "The longest word:  jkjlkjuiooi\n",
      "The longest word:  dragonfruit\n"
     ]
    }
   ],
   "source": [
    "#Implement a function longestWord() that takes a list of words and returns the longest one.\n",
    "\n",
    "def longestWord(lst):\n",
    "    l=[]\n",
    "    wordlength=0\n",
    "    for i in lst:\n",
    "        orgword=len(i)\n",
    "        if orgword > wordlength:\n",
    "            word=i\n",
    "    return word    \n",
    "\n",
    "lstt=['ab','cde','erty','jksjflk','jkjlkjuiooi']\n",
    "print(\"The longest word: \" ,longestWord(lstt))\n",
    "\n",
    "fruits=['apple','kiwi','mango','orange','dragonfruit']\n",
    "print(\"The longest word: \", longestWord(fruits))\n"
   ]
  },
  {
   "cell_type": "code",
   "execution_count": 79,
   "metadata": {
    "collapsed": false
   },
   "outputs": [
    {
     "name": "stdout",
     "output_type": "stream",
     "text": [
      "['jksjflk', 'jkjlkjuiooi']\n",
      "['orange', 'dragonfruit']\n"
     ]
    }
   ],
   "source": [
    "#Write a function filter_long_words() that takes a list of words and an integer n and returns the list\n",
    "#of words that are longer than n.\n",
    "\n",
    "\n",
    "def filter_long_words(list,n):\n",
    "    l=[]\n",
    "    ll=list\n",
    "    for i in ll:\n",
    "        if len(i) > n:\n",
    "            l.append(i)\n",
    "    return l\n",
    "\n",
    "lst=['ab','cde','erty','jksjflk','jkjlkjuiooi']\n",
    "print(filter_long_words(lst,4))\n",
    "\n",
    "fruits=['apple','kiwi','mango','orange','dragonfruit']\n",
    "print(filter_long_words(fruits,5))\n",
    "                 "
   ]
  },
  {
   "cell_type": "code",
   "execution_count": 22,
   "metadata": {
    "collapsed": false
   },
   "outputs": [
    {
     "data": {
      "text/plain": [
       "[2, 3, 4]"
      ]
     },
     "execution_count": 22,
     "metadata": {},
     "output_type": "execute_result"
    }
   ],
   "source": [
    "#Write a Python program using function concept that maps list of words into a list of integers\n",
    "#representing the lengths of the corresponding words .\n",
    "#Hint: If a list [ ab,cde,erty] is passed on to the python function output should come as [2,3,4]\n",
    "#Here 2,3 and 4 are the lengths of the words in the list.\n",
    "\n",
    "def listlength(*var):\n",
    "    l=[]\n",
    "    for i in var:\n",
    "        elementlen=len(i)\n",
    "        l.append(elementlen)\n",
    "    return l\n",
    "\n",
    "listlength('ab','cde','erty')"
   ]
  },
  {
   "cell_type": "code",
   "execution_count": 8,
   "metadata": {
    "collapsed": false
   },
   "outputs": [
    {
     "name": "stdout",
     "output_type": "stream",
     "text": [
      "enter character to check if it is a vovel or not: p\n",
      "False\n"
     ]
    }
   ],
   "source": [
    "#Write a Python function which takes a character (i.e. a string of length 1) and returns True if it is\n",
    "#a vowel, False otherwise.\n",
    "\n",
    "\n",
    "\n",
    "def isvowel(ch):\n",
    "    vovel=['a','e','i','o','u','A','E','I','O','U']\n",
    "    if ch in vovel:\n",
    "        print(\"True\")\n",
    "    else:\n",
    "        print(\"False\")\n",
    "        \n",
    "        \n",
    "symbol=input(\"enter character to check if it is a vovel or not: \")   \n",
    "\n",
    "isvowel(symbol)\n",
    "\n"
   ]
  },
  {
   "cell_type": "code",
   "execution_count": 144,
   "metadata": {
    "collapsed": false
   },
   "outputs": [
    {
     "name": "stdout",
     "output_type": "stream",
     "text": [
      "Please enter the first side of a triangle: 4\n",
      "Please enter the second side of a triangle: 13\n",
      "Please enter the third side of a triangle: 15\n",
      "24.0\n"
     ]
    }
   ],
   "source": [
    "\n",
    "#Write a Python Program(with class concepts) to find the area of the triangle using the below\n",
    "#formula.\n",
    "#area = (s*(s-a)*(s-b)*(s-c)) ** 0.5\n",
    "#Function to take the length of the sides of triangle from user should be defined in the parent\n",
    "#class and function to calculate the area should be defined in subclass.\n",
    "import sys\n",
    "import math\n",
    " \n",
    "a = int(input('Please enter the first side of a triangle: '))\n",
    "b = int(input('Please enter the second side of a triangle: '))\n",
    "c = int(input('Please enter the third side of a triangle: '))\n",
    "\n",
    "class triangle():\n",
    "    \n",
    "    def __init__(self,a,b,c):\n",
    "        self.a = a\n",
    "        self.b = b\n",
    "        self.c = c\n",
    "\n",
    "class Aoftraingle(triangle):\n",
    "\n",
    "    def __init__(self, a,b,c):\n",
    "        super().__init__(a,b,c)\n",
    "\n",
    "    def area(self):\n",
    "        s=(a + b + c)/2\n",
    "        area=math.sqrt(s*(s-a)*(s-b)*(s-c))\n",
    "        return area\n",
    "    \n",
    "t = Aoftraingle(a,b,c)\n",
    "print(t.area())\n",
    "        \n"
   ]
  },
  {
   "cell_type": "code",
   "execution_count": null,
   "metadata": {
    "collapsed": false
   },
   "outputs": [],
   "source": [
    "\n",
    "\n"
   ]
  },
  {
   "cell_type": "code",
   "execution_count": null,
   "metadata": {
    "collapsed": false
   },
   "outputs": [],
   "source": []
  },
  {
   "cell_type": "code",
   "execution_count": null,
   "metadata": {
    "collapsed": true
   },
   "outputs": [],
   "source": []
  }
 ],
 "metadata": {
  "kernelspec": {
   "display_name": "Python 3",
   "language": "python",
   "name": "python3"
  },
  "language_info": {
   "codemirror_mode": {
    "name": "ipython",
    "version": 3
   },
   "file_extension": ".py",
   "mimetype": "text/x-python",
   "name": "python",
   "nbconvert_exporter": "python",
   "pygments_lexer": "ipython3",
   "version": "3.6.0"
  }
 },
 "nbformat": 4,
 "nbformat_minor": 2
}
