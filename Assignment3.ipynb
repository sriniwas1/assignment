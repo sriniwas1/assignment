{
 "cells": [
  {
   "cell_type": "code",
   "execution_count": 6,
   "metadata": {
    "collapsed": false
   },
   "outputs": [
    {
     "name": "stdout",
     "output_type": "stream",
     "text": [
      "Division by zero not allowed\n"
     ]
    }
   ],
   "source": [
    "\n",
    "#Write a function to compute 5/0 and use try/except to catch the exceptions.\n",
    "\n",
    "def division(n1,n2):\n",
    "    try:\n",
    "        #a=int(input(\"Enter ther numerator number:\"))\n",
    "        #b=int(input(\"Enter the denominator number:\"))\n",
    "        a=n1\n",
    "        b=n2\n",
    "        c=a/b\n",
    "    except ZeroDivisionError:\n",
    "        print(\"Division by zero not allowed\")\n",
    "\n",
    "division(5,0)\n"
   ]
  },
  {
   "cell_type": "code",
   "execution_count": 1,
   "metadata": {
    "collapsed": false
   },
   "outputs": [
    {
     "name": "stdout",
     "output_type": "stream",
     "text": [
      "Americans  play  Baseball\n",
      "Americans  play  Cricket\n",
      "Americans  watch  Baseball\n",
      "Americans  watch  Cricket\n",
      "Indians play  Baseball\n",
      "Indians play  Cricket\n",
      "Indians watch  Baseball\n",
      "Indians watch  Cricket\n"
     ]
    }
   ],
   "source": [
    "#Implement a Python program to generate all sentences where subject is in [\"Americans\",\n",
    "#\"Indians\"] and verb is in [\"Play\", \"watch\"] and the object is in [\"Baseball\",\"cricket\"].\n",
    "\n",
    "#Hint: Subject,Verb and Object should be declared in the program as shown below.\n",
    "#        subjects=[\"Americans \",\"Indians\"]\n",
    "#        verbs=[\"play\",\"watch\"]\n",
    "#        objects=[\"Baseball\",\"Cricket\"]\n",
    "\n",
    "#Output should come as below:\n",
    "#    Americans play Baseball.\n",
    "#    Americans play Cricket.\n",
    "#    Americans watch Baseball.\n",
    "#    Americans watch Cricket.\n",
    "#    Indians play Baseball.\n",
    "#    Indians play Cricket.\n",
    "#    Indians watch Baseball.\n",
    "#     Indians watch Cricket\n",
    "\n",
    "subjects=[\"Americans \",\"Indians\"]\n",
    "verbs=[\"play\",\"watch\"]\n",
    "objects=[\"Baseball\",\"Cricket\"]\n",
    "\n",
    "for i in subjects:\n",
    "    for j in verbs:\n",
    "        for z in objects:\n",
    "            print(i +\" \"+j+\" \"+\" \"+z)\n"
   ]
  },
  {
   "cell_type": "code",
   "execution_count": null,
   "metadata": {
    "collapsed": true
   },
   "outputs": [],
   "source": [
    "#Write a function so that the columns of the output matrix are powers of the input vector.\n",
    "#The order of the powers is determined by the increasing boolean argument. Specifically, when\n",
    "#increasing is False, the i-th output column is the input vector raised element-wise to the power\n",
    "#of N - i - 1.\n",
    "\n",
    "#HINT: Such a matrix with a geometric progression in each row is named for Alexandre-\n",
    "#Theophile Vandermonde."
   ]
  },
  {
   "cell_type": "code",
   "execution_count": 7,
   "metadata": {
    "collapsed": false
   },
   "outputs": [
    {
     "name": "stdout",
     "output_type": "stream",
     "text": [
      "------------OUTPUT-------------\n",
      "\n",
      "The input array is: [1 2 3 4 5] \n",
      "\n",
      "Number of columns in output matrix should be: 3 \n",
      "\n",
      "Vander matrix of the input array in decreasing order of powers:\n",
      "\n",
      " [[ 1  1  1]\n",
      " [ 4  2  1]\n",
      " [ 9  3  1]\n",
      " [16  4  1]\n",
      " [25  5  1]] \n",
      "\n",
      "Vander matrix of the input array in increasing order of powers:\n",
      "\n",
      " [[ 1  1  1]\n",
      " [ 1  2  4]\n",
      " [ 1  3  9]\n",
      " [ 1  4 16]\n",
      " [ 1  5 25]] \n",
      "\n",
      "---------------------------------------------------------------\n",
      "\n",
      "The input array is: [ 1  2  4  6  8 10] \n",
      "\n",
      "Number of columns in output matrix should be: 5 \n",
      "\n",
      "Vander matrix of the input array in decreasing order of powers:\n",
      "\n",
      " [[    1     1     1     1     1]\n",
      " [   16     8     4     2     1]\n",
      " [  256    64    16     4     1]\n",
      " [ 1296   216    36     6     1]\n",
      " [ 4096   512    64     8     1]\n",
      " [10000  1000   100    10     1]] \n",
      "\n",
      "Vander matrix of the input array in increasing order of powers:\n",
      "\n",
      " [[    1     1     1     1     1]\n",
      " [    1     2     4     8    16]\n",
      " [    1     4    16    64   256]\n",
      " [    1     6    36   216  1296]\n",
      " [    1     8    64   512  4096]\n",
      " [    1    10   100  1000 10000]] \n",
      "\n"
     ]
    }
   ],
   "source": [
    "import numpy as np\n",
    "\n",
    "## Iterate over each number in the input vector n times, n being the number of columns in the o/p matrix and output \n",
    "## an intermediate vector. Use diff order formula based on increasing and decreasing condition.\n",
    "## Reshape the intermediate vector using the size of the input vector (rows) and n (columns) to generate the o/p matrix. \n",
    "   \n",
    "def gen_vander_matrix(ipvector, n, increasing=False):\n",
    "    \n",
    "    if not increasing:\n",
    "        op_matx = np.array([x**(n-1-i) for x in ipvector for i in range(n)]).reshape(ipvector.size,n)\n",
    "    elif increasing:\n",
    "        op_matx = np.array([x**i for x in ipvector for i in range(n)]).reshape(ipvector.size,n)\n",
    "    \n",
    "    return op_matx\n",
    "\n",
    "print(\"------------OUTPUT-------------\\n\")\n",
    "\n",
    "inputvector = np.array([1,2,3,4,5])\n",
    "no_col_opmat = 3\n",
    "op_matx_dec_order = gen_vander_matrix(inputvector,no_col_opmat,False)\n",
    "op_matx_inc_order = gen_vander_matrix(inputvector,no_col_opmat,True)\n",
    "\n",
    "print(\"The input array is:\",inputvector,\"\\n\")\n",
    "print(\"Number of columns in output matrix should be:\",no_col_opmat,\"\\n\")\n",
    "print(\"Vander matrix of the input array in decreasing order of powers:\\n\\n\",op_matx_dec_order,\"\\n\")\n",
    "print(\"Vander matrix of the input array in increasing order of powers:\\n\\n\",op_matx_inc_order,\"\\n\")\n",
    "\n",
    "inputvector = np.array([1,2,4,6,8,10])\n",
    "no_col_opmat = 5\n",
    "op_matx_dec_order = gen_vander_matrix(inputvector,no_col_opmat,False)\n",
    "op_matx_inc_order = gen_vander_matrix(inputvector,no_col_opmat,True)\n",
    "\n",
    "print(\"---------------------------------------------------------------\\n\")\n",
    "print(\"The input array is:\",inputvector,\"\\n\")\n",
    "print(\"Number of columns in output matrix should be:\",no_col_opmat,\"\\n\")\n",
    "print(\"Vander matrix of the input array in decreasing order of powers:\\n\\n\",op_matx_dec_order,\"\\n\")\n",
    "print(\"Vander matrix of the input array in increasing order of powers:\\n\\n\",op_matx_inc_order,\"\\n\")"
   ]
  },
  {
   "cell_type": "code",
   "execution_count": null,
   "metadata": {
    "collapsed": true
   },
   "outputs": [],
   "source": []
  }
 ],
 "metadata": {
  "kernelspec": {
   "display_name": "Python 3",
   "language": "python",
   "name": "python3"
  },
  "language_info": {
   "codemirror_mode": {
    "name": "ipython",
    "version": 3
   },
   "file_extension": ".py",
   "mimetype": "text/x-python",
   "name": "python",
   "nbconvert_exporter": "python",
   "pygments_lexer": "ipython3",
   "version": "3.6.0"
  }
 },
 "nbformat": 4,
 "nbformat_minor": 2
}
